{
  "nbformat": 4,
  "nbformat_minor": 0,
  "metadata": {
    "colab": {
      "name": "Untitled8.ipynb",
      "provenance": [],
      "mount_file_id": "1jSxrZtum39tQREgrZmY_SuQwrlSK3jTX",
      "authorship_tag": "ABX9TyOSK8dt1ft3rr52lJQc7qRh",
      "include_colab_link": true
    },
    "kernelspec": {
      "name": "python3",
      "display_name": "Python 3"
    }
  },
  "cells": [
    {
      "cell_type": "markdown",
      "metadata": {
        "id": "view-in-github",
        "colab_type": "text"
      },
      "source": [
        "<a href=\"https://colab.research.google.com/github/cassiolm/Automatizacao/blob/master/tracker.ipynb\" target=\"_parent\"><img src=\"https://colab.research.google.com/assets/colab-badge.svg\" alt=\"Open In Colab\"/></a>"
      ]
    },
    {
      "cell_type": "code",
      "metadata": {
        "id": "7cqA2yrN80oL",
        "colab_type": "code",
        "colab": {
          "base_uri": "https://localhost:8080/",
          "height": 153
        },
        "outputId": "a9fbef92-d6ba-4930-a98a-5170ae183970"
      },
      "source": [
        "import requests\n",
        "import json\n",
        "import pandas as pd\n",
        "import xml.etree.ElementTree as ET\n",
        "import numpy as np\n",
        "from datetime import datetime\n",
        "\n",
        "#dia de hoje\n",
        "dia = str(datetime.today().strftime('%d-%m-%Y'))\n",
        "\n",
        "cont = 0\n",
        "\n",
        "city = [\"Sao Paulo\", \"Rio de Janeiro\", \"Brasilia\", \"Belo Horizonte\", \"Curitiba\"]\n",
        "\n",
        "dados =[]\n",
        "\n",
        "while cont < 5:\n",
        "\tfor cidade in city:\n",
        "\t\turl = 'http://api.openweathermap.org/data/2.5/weather?q='+cidade+'&appid=cFc8a8d2b9527879806708e2f5451c7b&units=metric&lang=pt-br'\n",
        "\t\tr = requests.get(url)\n",
        "\t\tdata = r.json()\n",
        "\t\ttemp = str((data['main']['temp']))\n",
        "\t\tdados.append(temp)\n",
        "\t\tcont +=1\n",
        "\n",
        "lat= [\"-23.6815314\",\"-22.9132525\",\"-15.721387\",\"-19.9023386\",\"-25.4947401\"]\n",
        "lon= [\"-46.8754974\",\"-43.7261806\",\"-48.0774459\",\"-44.1041379\",\"-49.4298853\"]\n",
        "\n",
        "listaint = [0,1,2,3]\n",
        "\n",
        "cont=0\n",
        "n=0\n",
        "m=0\n",
        "chuvas = []\n",
        "\n",
        "for i in listaint:\n",
        "\twhile n < 5:\n",
        "\t\t# print(lat[n])\n",
        "\t\turl = \"https://climacell-microweather-v1.p.rapidapi.com/weather/forecast/hourly\"\n",
        "\t\tquerystring = {\"fields\":\"precipitation\",\"unit_system\":\"si\",\"lat\":lat[n],\"lon\":lon[m]}\n",
        "\t\theaders = {\n",
        "\t\t    'x-rapidapi-host': \"climacell-microweather-v1.p.rapidapi.com\",\n",
        "\t\t    'x-rapidapi-key': \"e81c2762f7msh28456c54460df45p12fd01jsn6f470545f167\"\n",
        "\t\t    # \"x-rapidapi-key\": \"aae7c87e81msh78d1d0e8172333dp1ee282jsn42bff6263b1e\"\n",
        "\t\t    # 'x-rapidapi-key': \"23e1e420dfmshcfcea8fc4b9d0c4p19d8a3jsnb2737af23abf\"\n",
        "\t\t    }\n",
        "\t\tr = requests.request(\"GET\", url, headers=headers, params=querystring)\n",
        "\t\tdata = r.json()\n",
        "\t\t# print(data)\n",
        "\t\tc=0\n",
        "\t\tprecip = (data[c]['precipitation']['value'])\n",
        "\t\tif precip <= 0:\n",
        "\t\t\twhile c < 10:\n",
        "\t\t\t\tc +=1 \n",
        "\t\t\t\tprecip = (data[c]['precipitation']['value'])\n",
        "\t\telse:\n",
        "\t\t\tbreak\n",
        "\t\tprint(precip)\n",
        "\t\tchuva = precip*100\n",
        "\t\tchuva = (\"{0:.2f}\".format(round(chuva,1)))+\"mm\"\t\n",
        "\t\tchuvas.append(chuva)\n",
        "\t\tn +=1\n",
        "\t\tm +=1\n",
        "\n",
        "dfinal = pd.DataFrame([dados,chuvas],index=[\"Temperatura\", \"Precipitação\"], columns=['São Paulo', 'Rio de Janeiro', 'Brasilia',\"Belo Horizonte\", 'Curitiba'])\n",
        "\n",
        "print(dfinal)\n",
        "\n",
        "# dfinal.to_excel(r'\\\\brsao001cfs\\\\BPMP\\\\Equipe S&I\\\\Analytics\\\\Temperatura & Precipitação\\\\'+dia+' - Temperatura e Chuva.xlsx')"
      ],
      "execution_count": 1,
      "outputs": [
        {
          "output_type": "stream",
          "text": [
            "0\n",
            "0\n",
            "0\n",
            "0\n",
            "0\n",
            "             São Paulo Rio de Janeiro Brasilia Belo Horizonte Curitiba\n",
            "Temperatura      18.23          22.45    24.47             21    19.82\n",
            "Precipitação    0.00mm         0.00mm   0.00mm         0.00mm   0.00mm\n"
          ],
          "name": "stdout"
        }
      ]
    }
  ]
}